{
  "nbformat": 4,
  "nbformat_minor": 0,
  "metadata": {
    "colab": {
      "name": "1_time_series_analysis_exercise.ipynb",
      "provenance": [],
      "collapsed_sections": [],
      "include_colab_link": true
    },
    "kernelspec": {
      "name": "python3",
      "display_name": "Python 3"
    },
    "language_info": {
      "name": "python"
    }
  },
  "cells": [
    {
      "cell_type": "markdown",
      "metadata": {
        "id": "view-in-github",
        "colab_type": "text"
      },
      "source": [
        "<a href=\"https://colab.research.google.com/github/Bastien-Schoumacher/Data-Science-Training-Python-Part-2/blob/main/exercises/1_time_series_analysis_exercise.ipynb\" target=\"_parent\"><img src=\"https://colab.research.google.com/assets/colab-badge.svg\" alt=\"Open In Colab\"/></a>"
      ]
    },
    {
      "cell_type": "markdown",
      "source": [
        "# Exercise: Time Series Analysis / Forecasting\n",
        "The data that we are going to use here is the Australian Drug Sales.\n",
        "\n",
        "Let's try section by section and write the code for the requested part."
      ],
      "metadata": {
        "id": "uJQAyezUqUNb"
      }
    },
    {
      "cell_type": "code",
      "execution_count": null,
      "metadata": {
        "id": "4vynEoDzmqeI"
      },
      "outputs": [],
      "source": [
        "# Import some packages which you may need during this exercise\n",
        "import numpy as np\n",
        "import pandas as pd\n",
        "\n",
        "\n",
        "# Import data\n",
        "df = pd.read_csv('https://raw.githubusercontent.com/selva86/datasets/master/a10.csv',\n",
        "                 parse_dates=['date'], index_col='date')"
      ]
    },
    {
      "cell_type": "markdown",
      "source": [
        "Let's look at few rows of the data.\n",
        "Can you tell what is the granularity of this time-seris?"
      ],
      "metadata": {
        "id": "BmGrU6SysjFR"
      }
    },
    {
      "cell_type": "code",
      "source": [
        "# Show few rows of data\n",
        "df.head ()"
      ],
      "metadata": {
        "id": "Ikg9KAbvspt2",
        "colab": {
          "base_uri": "https://localhost:8080/",
          "height": 238
        },
        "outputId": "de1e50ec-3476-4e51-b4a6-ef110513afed"
      },
      "execution_count": 3,
      "outputs": [
        {
          "output_type": "execute_result",
          "data": {
            "text/plain": [
              "               value\n",
              "date                \n",
              "1991-07-01  3.526591\n",
              "1991-08-01  3.180891\n",
              "1991-09-01  3.252221\n",
              "1991-10-01  3.611003\n",
              "1991-11-01  3.565869"
            ],
            "text/html": [
              "\n",
              "  <div id=\"df-6cd780cc-230a-47db-8ec1-58e792662486\">\n",
              "    <div class=\"colab-df-container\">\n",
              "      <div>\n",
              "<style scoped>\n",
              "    .dataframe tbody tr th:only-of-type {\n",
              "        vertical-align: middle;\n",
              "    }\n",
              "\n",
              "    .dataframe tbody tr th {\n",
              "        vertical-align: top;\n",
              "    }\n",
              "\n",
              "    .dataframe thead th {\n",
              "        text-align: right;\n",
              "    }\n",
              "</style>\n",
              "<table border=\"1\" class=\"dataframe\">\n",
              "  <thead>\n",
              "    <tr style=\"text-align: right;\">\n",
              "      <th></th>\n",
              "      <th>value</th>\n",
              "    </tr>\n",
              "    <tr>\n",
              "      <th>date</th>\n",
              "      <th></th>\n",
              "    </tr>\n",
              "  </thead>\n",
              "  <tbody>\n",
              "    <tr>\n",
              "      <th>1991-07-01</th>\n",
              "      <td>3.526591</td>\n",
              "    </tr>\n",
              "    <tr>\n",
              "      <th>1991-08-01</th>\n",
              "      <td>3.180891</td>\n",
              "    </tr>\n",
              "    <tr>\n",
              "      <th>1991-09-01</th>\n",
              "      <td>3.252221</td>\n",
              "    </tr>\n",
              "    <tr>\n",
              "      <th>1991-10-01</th>\n",
              "      <td>3.611003</td>\n",
              "    </tr>\n",
              "    <tr>\n",
              "      <th>1991-11-01</th>\n",
              "      <td>3.565869</td>\n",
              "    </tr>\n",
              "  </tbody>\n",
              "</table>\n",
              "</div>\n",
              "      <button class=\"colab-df-convert\" onclick=\"convertToInteractive('df-6cd780cc-230a-47db-8ec1-58e792662486')\"\n",
              "              title=\"Convert this dataframe to an interactive table.\"\n",
              "              style=\"display:none;\">\n",
              "        \n",
              "  <svg xmlns=\"http://www.w3.org/2000/svg\" height=\"24px\"viewBox=\"0 0 24 24\"\n",
              "       width=\"24px\">\n",
              "    <path d=\"M0 0h24v24H0V0z\" fill=\"none\"/>\n",
              "    <path d=\"M18.56 5.44l.94 2.06.94-2.06 2.06-.94-2.06-.94-.94-2.06-.94 2.06-2.06.94zm-11 1L8.5 8.5l.94-2.06 2.06-.94-2.06-.94L8.5 2.5l-.94 2.06-2.06.94zm10 10l.94 2.06.94-2.06 2.06-.94-2.06-.94-.94-2.06-.94 2.06-2.06.94z\"/><path d=\"M17.41 7.96l-1.37-1.37c-.4-.4-.92-.59-1.43-.59-.52 0-1.04.2-1.43.59L10.3 9.45l-7.72 7.72c-.78.78-.78 2.05 0 2.83L4 21.41c.39.39.9.59 1.41.59.51 0 1.02-.2 1.41-.59l7.78-7.78 2.81-2.81c.8-.78.8-2.07 0-2.86zM5.41 20L4 18.59l7.72-7.72 1.47 1.35L5.41 20z\"/>\n",
              "  </svg>\n",
              "      </button>\n",
              "      \n",
              "  <style>\n",
              "    .colab-df-container {\n",
              "      display:flex;\n",
              "      flex-wrap:wrap;\n",
              "      gap: 12px;\n",
              "    }\n",
              "\n",
              "    .colab-df-convert {\n",
              "      background-color: #E8F0FE;\n",
              "      border: none;\n",
              "      border-radius: 50%;\n",
              "      cursor: pointer;\n",
              "      display: none;\n",
              "      fill: #1967D2;\n",
              "      height: 32px;\n",
              "      padding: 0 0 0 0;\n",
              "      width: 32px;\n",
              "    }\n",
              "\n",
              "    .colab-df-convert:hover {\n",
              "      background-color: #E2EBFA;\n",
              "      box-shadow: 0px 1px 2px rgba(60, 64, 67, 0.3), 0px 1px 3px 1px rgba(60, 64, 67, 0.15);\n",
              "      fill: #174EA6;\n",
              "    }\n",
              "\n",
              "    [theme=dark] .colab-df-convert {\n",
              "      background-color: #3B4455;\n",
              "      fill: #D2E3FC;\n",
              "    }\n",
              "\n",
              "    [theme=dark] .colab-df-convert:hover {\n",
              "      background-color: #434B5C;\n",
              "      box-shadow: 0px 1px 3px 1px rgba(0, 0, 0, 0.15);\n",
              "      filter: drop-shadow(0px 1px 2px rgba(0, 0, 0, 0.3));\n",
              "      fill: #FFFFFF;\n",
              "    }\n",
              "  </style>\n",
              "\n",
              "      <script>\n",
              "        const buttonEl =\n",
              "          document.querySelector('#df-6cd780cc-230a-47db-8ec1-58e792662486 button.colab-df-convert');\n",
              "        buttonEl.style.display =\n",
              "          google.colab.kernel.accessAllowed ? 'block' : 'none';\n",
              "\n",
              "        async function convertToInteractive(key) {\n",
              "          const element = document.querySelector('#df-6cd780cc-230a-47db-8ec1-58e792662486');\n",
              "          const dataTable =\n",
              "            await google.colab.kernel.invokeFunction('convertToInteractive',\n",
              "                                                     [key], {});\n",
              "          if (!dataTable) return;\n",
              "\n",
              "          const docLinkHtml = 'Like what you see? Visit the ' +\n",
              "            '<a target=\"_blank\" href=https://colab.research.google.com/notebooks/data_table.ipynb>data table notebook</a>'\n",
              "            + ' to learn more about interactive tables.';\n",
              "          element.innerHTML = '';\n",
              "          dataTable['output_type'] = 'display_data';\n",
              "          await google.colab.output.renderOutput(dataTable, element);\n",
              "          const docLink = document.createElement('div');\n",
              "          docLink.innerHTML = docLinkHtml;\n",
              "          element.appendChild(docLink);\n",
              "        }\n",
              "      </script>\n",
              "    </div>\n",
              "  </div>\n",
              "  "
            ]
          },
          "metadata": {},
          "execution_count": 3
        }
      ]
    },
    {
      "cell_type": "markdown",
      "source": [
        "Let's try to visualize the data.\n",
        "\n",
        "Can you already tell if the data is stationary?"
      ],
      "metadata": {
        "id": "bH3_JNxZr40w"
      }
    },
    {
      "cell_type": "code",
      "source": [
        "# Visualize the data"
      ],
      "metadata": {
        "id": "J3GVAi6loVlC"
      },
      "execution_count": null,
      "outputs": []
    },
    {
      "cell_type": "markdown",
      "source": [
        "[Optional] Can you plot the time-series data per year?\n",
        "This will help us to see their common patterns within in different months"
      ],
      "metadata": {
        "id": "64Kh3NTeszUe"
      }
    },
    {
      "cell_type": "code",
      "source": [
        "# [OPTIONA] Seasonal Plot of a Time Series "
      ],
      "metadata": {
        "id": "RYgEMcY1oa9i"
      },
      "execution_count": null,
      "outputs": []
    },
    {
      "cell_type": "markdown",
      "source": [
        "## Kwiatkowski-Phillips-Schmidt-Shin (KPSS) Test\n",
        "KPSS is another statistical test which is a type of Unit root test that tests for the stationarity of a given series around a deterministic trend.\n",
        "In other words, the test is somewhat similar in spirit with the ADF test.\n",
        "\n",
        "KPSS test is conducted with the following assumptions.\n",
        "\n",
        "Null Hypothesis (HO): Series is trend stationary or series has no unit root.\n",
        "\n",
        "Alternate Hypothesis(HA): Series is non-stationary or series has a unit root.\n",
        ">Note: Hypothesis is reversed in KPSS test compared to ADF Test.\n",
        "\n",
        "If the null hypothesis is failed to be rejected, this test may provide evidence that the series is trend stationary.\n",
        "Conditions to Fail to Reject Null Hypothesis(HO)\n",
        "\n",
        "If Test statistic < Critical Value and p-value < 0.05 – Fail to Reject Null Hypothesis(HO) i.e., time series does not have a unit root, meaning it is trend stationary.\n",
        "Please read [this](https://www.analyticsvidhya.com/blog/2021/06/statistical-tests-to-check-stationarity-in-time-series-part-1/#:~:text=Two%20tests%20for%20checking%20the,check%20stationarity%20in%20Time%20Series.) for more information.\n",
        "\n",
        "Let's write the code for the KPSS test and try to interpret the results (you can borrow the codes from the given link):"
      ],
      "metadata": {
        "id": "WkpqWnNDtZ2E"
      }
    },
    {
      "cell_type": "code",
      "source": [
        "from statsmodels.tsa.stattools import kpss\n",
        "# Apply the KPSS test on the time-series data"
      ],
      "metadata": {
        "id": "3Y8zsR5GtJOP"
      },
      "execution_count": null,
      "outputs": []
    },
    {
      "cell_type": "markdown",
      "source": [
        "Now let's try to decompose the time-series using seasonal_decompose:"
      ],
      "metadata": {
        "id": "yz4LBeUewhnY"
      }
    },
    {
      "cell_type": "code",
      "source": [
        "# Write the code for decomposing the time-series and visualize the components\n",
        "# Use both Additive and Multiplicative models and notice the difference"
      ],
      "metadata": {
        "id": "z8KXFi4OupSK"
      },
      "execution_count": null,
      "outputs": []
    },
    {
      "cell_type": "markdown",
      "source": [
        "Now let's **Deseasonalize** the time-series. For that you just need to reduce or dividing (depending on the model you used) the seasonal part of the decomposed result from the actual time-seris.\n",
        "Try to visualize the deseasonalize time-series:"
      ],
      "metadata": {
        "id": "-LI6XRSzwvtq"
      }
    },
    {
      "cell_type": "code",
      "source": [
        "# Calculate and visualize the deseasonalize time-series from the\n",
        "# decomposed results from the Multiplicative model"
      ],
      "metadata": {
        "id": "37WZ0fLmwt5L"
      },
      "execution_count": null,
      "outputs": []
    },
    {
      "cell_type": "markdown",
      "source": [
        "Now plot the Autocorrelation and Partial Autocorrelation Plots"
      ],
      "metadata": {
        "id": "Ma4Sq4kYyO3d"
      }
    },
    {
      "cell_type": "code",
      "source": [
        "# Write the code for plotting the ACF and PACF for the time-series"
      ],
      "metadata": {
        "id": "duZq3VIIxt9M"
      },
      "execution_count": null,
      "outputs": []
    },
    {
      "cell_type": "markdown",
      "source": [
        "Now that you have more information about this time-series and its characteristics, let's try to do a forecasting for the last 6 month.\n",
        "You need to divide your data into train and test.\n",
        "You can use any forecasting model (EX. ARMA, ARIMA, SARIMA, ...) as long as you know what it does. Feel free to explore new models.\n",
        "\n",
        "After that let's evaluate the model by comparing the forecasting results with the actual values. Use multiple evaluation metrics.\n",
        "\n",
        "Does your model performs good?"
      ],
      "metadata": {
        "id": "RSv0pRNXzMbF"
      }
    },
    {
      "cell_type": "code",
      "source": [
        "# Prepare your train and test data\n",
        "\n",
        "# Write the code for the model forecasting\n",
        "\n",
        "# Visualize the forecast results alongside the actual data\n",
        "\n",
        "# Evaluate your model outcome"
      ],
      "metadata": {
        "id": "5w9P3S_sy5aX"
      },
      "execution_count": null,
      "outputs": []
    },
    {
      "cell_type": "markdown",
      "source": [
        "Useful links:\n",
        "\n",
        "- https://www.analyticsvidhya.com/blog/2020/10/how-to-create-an-arima-model-for-time-series-forecasting-in-python/\n",
        "- https://www.baeldung.com/cs/acf-pacf-plots-arma-modeling\n",
        "- https://www.machinelearningplus.com/time-series/arima-model-time-series-forecasting-python/\n",
        "- https://www.machinelearningplus.com/time-series/time-series-analysis-python/"
      ],
      "metadata": {
        "id": "QozxrRC70nHd"
      }
    },
    {
      "cell_type": "code",
      "source": [
        ""
      ],
      "metadata": {
        "id": "hfEZRo3Z0kt6"
      },
      "execution_count": null,
      "outputs": []
    }
  ]
}